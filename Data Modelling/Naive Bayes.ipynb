{
  "nbformat": 4,
  "nbformat_minor": 0,
  "metadata": {
    "colab": {
      "provenance": []
    },
    "kernelspec": {
      "name": "python3",
      "display_name": "Python 3"
    },
    "language_info": {
      "name": "python"
    }
  },
  "cells": [
    {
      "cell_type": "markdown",
      "source": [
        "# **Preprocessing**"
      ],
      "metadata": {
        "id": "2pexFJYk-jqH"
      }
    },
    {
      "cell_type": "code",
      "source": [
        "from sklearn.model_selection import train_test_split\n",
        "from sklearn.naive_bayes import GaussianNB\n",
        "from sklearn.ensemble import RandomForestClassifier\n",
        "from sklearn.metrics import confusion_matrix, classification_report, ConfusionMatrixDisplay\n",
        "from sklearn.metrics import accuracy_score\n",
        "import matplotlib.pyplot as plt\n",
        "import pandas as pd\n",
        "import pandas as pd\n",
        "from sklearn.preprocessing import RobustScaler, OneHotEncoder\n",
        "from sklearn.compose import ColumnTransformer\n",
        "import numpy as np\n",
        "\n",
        "# Load the dataset from the URL\n",
        "url = \"https://raw.githubusercontent.com/Liz283/DataMining/main/heart.csv\"\n",
        "data = pd.read_csv(url)\n",
        "\n",
        "# Define categorical and numerical features\n",
        "categorical_features = ['sex', 'cp', 'fbs', 'restecg', 'exang', 'slope', 'ca', 'thal']\n",
        "numerical_features = ['age', 'trestbps', 'chol', 'thalach', 'oldpeak']\n",
        "\n",
        "# Define the ColumnTransformer to apply different preprocessing to different columns\n",
        "preprocessor = ColumnTransformer(\n",
        "    transformers=[\n",
        "        ('num', RobustScaler(), numerical_features),\n",
        "        ('cat', OneHotEncoder(), categorical_features)\n",
        "    ])\n",
        "\n",
        "# Apply the preprocessing to the dataset, excluding the target variable if present\n",
        "X_processed = preprocessor.fit_transform(data.drop(['target'], axis=1) if 'target' in data.columns else data)\n",
        "y = data['target'] if 'target' in data.columns else None\n"
      ],
      "metadata": {
        "id": "IyRSUyMpXW_4"
      },
      "execution_count": 17,
      "outputs": []
    },
    {
      "cell_type": "markdown",
      "source": [
        "# **Parameter Optimization**"
      ],
      "metadata": {
        "id": "E59Q1jeq8Mk_"
      }
    },
    {
      "cell_type": "code",
      "source": [
        "from sklearn.model_selection import train_test_split\n",
        "from sklearn.naive_bayes import GaussianNB\n",
        "from sklearn.metrics import accuracy_score\n",
        "import pandas as pd\n",
        "\n",
        "# Assume X_processed and y are already defined as per your preprocessing steps\n",
        "\n",
        "# Define the parameter grid\n",
        "test_sizes = [0.1, 0.15, 0.2, 0.25, 0.3]\n",
        "random_states = [0, 42, 100]\n",
        "\n",
        "best_accuracy = 0\n",
        "best_params = {'test_size': None, 'random_state': None}\n",
        "\n",
        "# Iterate over all combinations of test_size and random_state\n",
        "for test_size in test_sizes:\n",
        "    for random_state in random_states:\n",
        "        # Split the dataset\n",
        "        X_train, X_test, y_train, y_test = train_test_split(X_processed, y, test_size=test_size, random_state=random_state)\n",
        "\n",
        "        # Initialize and fit Naive Bayes model\n",
        "        nb_classifier = GaussianNB()\n",
        "        nb_classifier.fit(X_train, y_train)\n",
        "\n",
        "        # Predict and evaluate accuracy\n",
        "        y_pred_nb = nb_classifier.predict(X_test)\n",
        "        accuracy = accuracy_score(y_test, y_pred_nb)\n",
        "\n",
        "        # Update best parameters if current accuracy is higher\n",
        "        if accuracy > best_accuracy:\n",
        "            best_accuracy = accuracy\n",
        "            best_params['test_size'] = test_size\n",
        "            best_params['random_state'] = random_state\n",
        "\n",
        "# Print the best parameters and their accuracy\n",
        "print(f\"Best Parameters: {best_params}\")\n",
        "print(f\"Best Accuracy: {best_accuracy}\")\n"
      ],
      "metadata": {
        "colab": {
          "base_uri": "https://localhost:8080/"
        },
        "id": "XET2vi9o7q4K",
        "outputId": "78ae5e9b-5af1-436d-fb81-5f6b5dd8c1f8"
      },
      "execution_count": 20,
      "outputs": [
        {
          "output_type": "stream",
          "name": "stdout",
          "text": [
            "Best Parameters: {'test_size': 0.1, 'random_state': 100}\n",
            "Best Accuracy: 0.883495145631068\n"
          ]
        }
      ]
    },
    {
      "cell_type": "markdown",
      "source": [
        "# **Prediction**"
      ],
      "metadata": {
        "id": "4RiIhIZq9oLm"
      }
    },
    {
      "cell_type": "code",
      "source": [
        "# Splitting the dataset into the Training set and Test set\n",
        "X_train, X_test, y_train, y_test = train_test_split(X_processed, y, test_size = 0.1, random_state = 100)\n",
        "\n",
        "# Naive Bayes model\n",
        "nb_classifier = GaussianNB()\n",
        "nb_classifier.fit(X_train, y_train)\n",
        "y_pred_nb = nb_classifier.predict(X_test)\n",
        "nb_accuracy = accuracy_score(y_test, y_pred_nb)\n",
        "\n",
        "def print_nb_results(y_test, y_pred_nb, accuracy_nb):\n",
        "    matrix_nb = confusion_matrix(y_test, y_pred_nb)\n",
        "    label_names = ['No Disease', 'Disease']\n",
        "    confusion_df_nb = pd.DataFrame(matrix_nb, columns=['Predicted ' + label for label in label_names], index=['Is ' + label for label in label_names])\n",
        "    print(\"Results for Naive Bayes:\\n\")\n",
        "    print(confusion_df_nb)\n",
        "    print(\"\\nClassification Report:\")\n",
        "    print(classification_report(y_test, y_pred_nb))\n",
        "    print(f\"\\nAccuracy Score: {accuracy_nb*100:.2f}%\")\n",
        "    print(\"\\nConfusion Matrix:\")\n",
        "    ConfusionMatrixDisplay.from_predictions(y_test, y_pred_nb, display_labels=label_names)\n",
        "    plt.title('Confusion Matrix for Naive Bayes')\n",
        "    plt.show()\n",
        "print_nb_results(y_test, y_pred_nb, nb_accuracy)"
      ],
      "metadata": {
        "colab": {
          "base_uri": "https://localhost:8080/",
          "height": 819
        },
        "id": "H5EgC7JN7_8r",
        "outputId": "15d23db2-7bb6-472e-f6f3-b76f49c4c85f"
      },
      "execution_count": 21,
      "outputs": [
        {
          "output_type": "stream",
          "name": "stdout",
          "text": [
            "Results for Naive Bayes:\n",
            "\n",
            "               Predicted No Disease  Predicted Disease\n",
            "Is No Disease                    39                  6\n",
            "Is Disease                        6                 52\n",
            "\n",
            "Classification Report:\n",
            "              precision    recall  f1-score   support\n",
            "\n",
            "           0       0.87      0.87      0.87        45\n",
            "           1       0.90      0.90      0.90        58\n",
            "\n",
            "    accuracy                           0.88       103\n",
            "   macro avg       0.88      0.88      0.88       103\n",
            "weighted avg       0.88      0.88      0.88       103\n",
            "\n",
            "\n",
            "Accuracy Score: 88.35%\n",
            "\n",
            "Confusion Matrix:\n"
          ]
        },
        {
          "output_type": "display_data",
          "data": {
            "text/plain": [
              "<Figure size 640x480 with 2 Axes>"
            ],
            "image/png": "[encoded data removed]"
          },
          "metadata": {}
        }
      ]
    }
  ]
}
