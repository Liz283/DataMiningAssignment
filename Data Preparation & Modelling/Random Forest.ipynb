{
  "nbformat": 4,
  "nbformat_minor": 0,
  "metadata": {
    "colab": {
      "provenance": []
    },
    "kernelspec": {
      "name": "python3",
      "display_name": "Python 3"
    },
    "language_info": {
      "name": "python"
    }
  },
  "cells": [
    {
      "cell_type": "markdown",
      "source": [
        "# **Preprocessing**"
      ],
      "metadata": {
        "id": "sCpEGhbX-fFZ"
      }
    },
    {
      "cell_type": "code",
      "source": [
        "from sklearn.model_selection import train_test_split\n",
        "from sklearn.naive_bayes import GaussianNB\n",
        "from sklearn.ensemble import RandomForestClassifier\n",
        "from sklearn.metrics import confusion_matrix, classification_report, ConfusionMatrixDisplay\n",
        "from sklearn.metrics import accuracy_score\n",
        "import matplotlib.pyplot as plt\n",
        "import pandas as pd\n",
        "import pandas as pd\n",
        "from sklearn.preprocessing import RobustScaler, OneHotEncoder\n",
        "from sklearn.compose import ColumnTransformer\n",
        "import numpy as np\n",
        "\n",
        "# Load the dataset from the URL\n",
        "url = \"https://raw.githubusercontent.com/Liz283/DataMining/main/heart.csv\"\n",
        "data = pd.read_csv(url)\n",
        "\n",
        "# Define categorical and numerical features\n",
        "categorical_features = ['sex', 'cp', 'fbs', 'restecg', 'exang', 'slope', 'ca', 'thal']\n",
        "numerical_features = ['age', 'trestbps', 'chol', 'thalach', 'oldpeak']\n",
        "\n",
        "# Define the ColumnTransformer to apply different preprocessing to different columns\n",
        "preprocessor = ColumnTransformer(\n",
        "    transformers=[\n",
        "        ('num', RobustScaler(), numerical_features),\n",
        "        ('cat', OneHotEncoder(), categorical_features)\n",
        "    ])\n",
        "\n",
        "# Apply the preprocessing to the dataset, excluding the target variable if present\n",
        "X_processed = preprocessor.fit_transform(data.drop(['target'], axis=1) if 'target' in data.columns else data)\n",
        "y = data['target'] if 'target' in data.columns else None\n"
      ],
      "metadata": {
        "id": "IyRSUyMpXW_4"
      },
      "execution_count": null,
      "outputs": []
    },
    {
      "cell_type": "markdown",
      "source": [
        "# Parameter **Optimization**"
      ],
      "metadata": {
        "id": "Xx6c2Bk6-HxX"
      }
    },
    {
      "cell_type": "code",
      "source": [
        "from sklearn.model_selection import train_test_split\n",
        "from sklearn.ensemble import RandomForestClassifier\n",
        "from sklearn.metrics import accuracy_score\n",
        "import pandas as pd\n",
        "\n",
        "\n",
        "# Define the parameter grid\n",
        "test_sizes = [0.1, 0.15, 0.2, 0.25, 0.3]\n",
        "random_states = [0, 42, 100]\n",
        "n_estimators_list = [50, 100, 150]\n",
        "\n",
        "best_accuracy = 0\n",
        "best_params = {'test_size': None, 'random_state': None, 'n_estimators': None}\n",
        "\n",
        "# Iterate over all combinations\n",
        "for test_size in test_sizes:\n",
        "    for random_state in random_states:\n",
        "        for n_estimators in n_estimators_list:\n",
        "            X_train, X_test, y_train, y_test = train_test_split(X_processed, y, test_size=test_size, random_state=random_state)\n",
        "            rf_classifier = RandomForestClassifier(n_estimators=n_estimators, random_state=random_state)\n",
        "            rf_classifier.fit(X_train, y_train)\n",
        "            y_pred_rf = rf_classifier.predict(X_test)\n",
        "            accuracy = accuracy_score(y_test, y_pred_rf)\n",
        "\n",
        "            if accuracy > best_accuracy:\n",
        "                best_accuracy = accuracy\n",
        "                best_params['test_size'] = test_size\n",
        "                best_params['random_state'] = random_state\n",
        "                best_params['n_estimators'] = n_estimrs\n",
        "\n",
        "# Print the best parameters and their accuracy\n",
        "print(f\"Best Parameters: {best_params}\")\n",
        "print(f\"Best Accuracy: {best_accuracy}\")\n"
      ],
      "metadata": {
        "colab": {
          "base_uri": "https://localhost:8080/"
        },
        "id": "6J8bZKMc5Spw",
        "outputId": "c35f5362-8177-47ee-fd34-01e0ee4f7ffd"
      },
      "execution_count": null,
      "outputs": [
        {
          "output_type": "stream",
          "name": "stdout",
          "text": [
            "Best Parameters: {'test_size': 0.1, 'random_state': 0, 'n_estimators': 50}\n",
            "Best Accuracy: 1.0\n"
          ]
        }
      ]
    },
    {
      "cell_type": "markdown",
      "source": [
        "# **Prediction**"
      ],
      "metadata": {
        "id": "sb9tTKBR-Q-8"
      }
    },
    {
      "cell_type": "code",
      "source": [
        "# Splitting the dataset into the Training set and Test set\n",
        "X_train, X_test, y_train, y_test = train_test_split(X_processed, y, test_size = 0.1, random_state = 0)\n",
        "\n",
        "# Random Forest model\n",
        "rf_classifier = RandomForestClassifier(n_estimators = 50, random_state = 0)\n",
        "rf_classifier.fit(X_train, y_train)\n",
        "y_pred_rf = rf_classifier.predict(X_test)\n",
        "rf_accuracy = accuracy_score(y_test, y_pred_rf)\n",
        "def print_rf_results(y_test, y_pred_rf, accuracy_rf):\n",
        "    matrix_rf = confusion_matrix(y_test, y_pred_rf)\n",
        "    label_names = ['No Disease', 'Disease']\n",
        "    confusion_df_rf = pd.DataFrame(matrix_rf, columns=['Predicted ' + label for label in label_names], index=['Is ' + label for label in label_names])\n",
        "    print(\"Results for Random Forest:\\n\")\n",
        "    print(confusion_df_rf)\n",
        "    print(\"\\nClassification Report:\")\n",
        "    print(classification_report(y_test, y_pred_rf))\n",
        "    print(f\"\\nAccuracy Score: {accuracy_rf*100:.2f}%\")\n",
        "    print(\"\\nConfusion Matrix:\")\n",
        "    ConfusionMatrixDisplay.from_predictions(y_test, y_pred_rf, display_labels=label_names)\n",
        "    plt.title('Confusion Matrix for Random Forest')\n",
        "    plt.show()\n",
        "print_rf_results(y_test, y_pred_rf, rf_accuracy)"
      ],
      "metadata": {
        "colab": {
          "base_uri": "https://localhost:8080/",
          "height": 819
        },
        "id": "dI5Je2KY5n7P",
        "outputId": "1e1446b3-70c0-4b8f-a1f0-f3080056f46c"
      },
      "execution_count": null,
      "outputs": [
        {
          "output_type": "stream",
          "name": "stdout",
          "text": [
            "Results for Random Forest:\n",
            "\n",
            "               Predicted No Disease  Predicted Disease\n",
            "Is No Disease                    55                  0\n",
            "Is Disease                        0                 48\n",
            "\n",
            "Classification Report:\n",
            "              precision    recall  f1-score   support\n",
            "\n",
            "           0       1.00      1.00      1.00        55\n",
            "           1       1.00      1.00      1.00        48\n",
            "\n",
            "    accuracy                           1.00       103\n",
            "   macro avg       1.00      1.00      1.00       103\n",
            "weighted avg       1.00      1.00      1.00       103\n",
            "\n",
            "\n",
            "Accuracy Score: 100.00%\n",
            "\n",
            "Confusion Matrix:\n"
          ]
        },
        {
          "output_type": "display_data",
          "data": {
            "text/plain": [
              "<Figure size 640x480 with 2 Axes>"
            ],
            "image/png": "[encoded data removed]"
          },
          "metadata": {}
        }
      ]
    },
    {
      "cell_type": "markdown",
      "source": [
        "# **Cross-validation Evaluation**"
      ],
      "metadata": {
        "id": "NcwvD4_P4s-T"
      }
    },
    {
      "cell_type": "code",
      "source": [
        "# Perform cross-validation to evaluate the model\n",
        "cross_val_scores = cross_val_score(rf_classifier , X_processed, y, cv=5, scoring='accuracy')\n",
        "\n",
        "cross_val_scores, cross_val_scores.mean(), cross_val_scores.std()"
      ],
      "metadata": {
        "colab": {
          "base_uri": "https://localhost:8080/"
        },
        "id": "voHHqpMr12sU",
        "outputId": "0b6ce8a6-9d9d-4bd5-e92c-061028d2e6ec"
      },
      "execution_count": 8,
      "outputs": [
        {
          "output_type": "execute_result",
          "data": {
            "text/plain": [
              "(array([1.        , 1.        , 1.        , 1.        , 0.98536585]),\n",
              " 0.9970731707317073,\n",
              " 0.005853658536585371)"
            ]
          },
          "metadata": {},
          "execution_count": 8
        }
      ]
    }
  ]
}